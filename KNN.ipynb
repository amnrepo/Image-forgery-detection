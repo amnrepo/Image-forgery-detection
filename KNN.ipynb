{
  "cells": [
    {
      "cell_type": "code",
      "execution_count": 15,
      "metadata": {
        "id": "CPbcWNNGrWRw"
      },
      "outputs": [],
      "source": [
        "import numpy as np \n",
        "import pandas as pd \n"
      ]
    },
    {
      "cell_type": "code",
      "execution_count": 16,
      "metadata": {
        "id": "iaskiaNcrWT1"
      },
      "outputs": [],
      "source": [
        "import tensorflow as tf\n",
        "from tensorflow.keras import models,layers\n",
        "import matplotlib.pyplot as plt\n",
        "import zipfile"
      ]
    },
    {
      "cell_type": "code",
      "execution_count": 17,
      "metadata": {
        "colab": {
          "base_uri": "https://localhost:8080/",
          "height": 299
        },
        "id": "HjFfWM44rWWK",
        "outputId": "28d5ac60-797e-4be5-a5c9-b1f59883c227"
      },
      "outputs": [
        {
          "data": {
            "text/html": [
              "<div>\n",
              "<style scoped>\n",
              "    .dataframe tbody tr th:only-of-type {\n",
              "        vertical-align: middle;\n",
              "    }\n",
              "\n",
              "    .dataframe tbody tr th {\n",
              "        vertical-align: top;\n",
              "    }\n",
              "\n",
              "    .dataframe thead th {\n",
              "        text-align: right;\n",
              "    }\n",
              "</style>\n",
              "<table border=\"1\" class=\"dataframe\">\n",
              "  <thead>\n",
              "    <tr style=\"text-align: right;\">\n",
              "      <th></th>\n",
              "      <th>id</th>\n",
              "      <th>species</th>\n",
              "      <th>margin1</th>\n",
              "      <th>margin2</th>\n",
              "      <th>margin3</th>\n",
              "      <th>margin4</th>\n",
              "      <th>margin5</th>\n",
              "      <th>margin6</th>\n",
              "      <th>margin7</th>\n",
              "      <th>margin8</th>\n",
              "      <th>...</th>\n",
              "      <th>texture55</th>\n",
              "      <th>texture56</th>\n",
              "      <th>texture57</th>\n",
              "      <th>texture58</th>\n",
              "      <th>texture59</th>\n",
              "      <th>texture60</th>\n",
              "      <th>texture61</th>\n",
              "      <th>texture62</th>\n",
              "      <th>texture63</th>\n",
              "      <th>texture64</th>\n",
              "    </tr>\n",
              "  </thead>\n",
              "  <tbody>\n",
              "    <tr>\n",
              "      <th>0</th>\n",
              "      <td>1</td>\n",
              "      <td>Acer_Opalus</td>\n",
              "      <td>0.007812</td>\n",
              "      <td>0.023438</td>\n",
              "      <td>0.023438</td>\n",
              "      <td>0.003906</td>\n",
              "      <td>0.011719</td>\n",
              "      <td>0.009766</td>\n",
              "      <td>0.027344</td>\n",
              "      <td>0.0</td>\n",
              "      <td>...</td>\n",
              "      <td>0.007812</td>\n",
              "      <td>0.000000</td>\n",
              "      <td>0.002930</td>\n",
              "      <td>0.002930</td>\n",
              "      <td>0.035156</td>\n",
              "      <td>0.0</td>\n",
              "      <td>0.0</td>\n",
              "      <td>0.004883</td>\n",
              "      <td>0.000000</td>\n",
              "      <td>0.025391</td>\n",
              "    </tr>\n",
              "    <tr>\n",
              "      <th>1</th>\n",
              "      <td>2</td>\n",
              "      <td>Pterocarya_Stenoptera</td>\n",
              "      <td>0.005859</td>\n",
              "      <td>0.000000</td>\n",
              "      <td>0.031250</td>\n",
              "      <td>0.015625</td>\n",
              "      <td>0.025391</td>\n",
              "      <td>0.001953</td>\n",
              "      <td>0.019531</td>\n",
              "      <td>0.0</td>\n",
              "      <td>...</td>\n",
              "      <td>0.000977</td>\n",
              "      <td>0.000000</td>\n",
              "      <td>0.000000</td>\n",
              "      <td>0.000977</td>\n",
              "      <td>0.023438</td>\n",
              "      <td>0.0</td>\n",
              "      <td>0.0</td>\n",
              "      <td>0.000977</td>\n",
              "      <td>0.039062</td>\n",
              "      <td>0.022461</td>\n",
              "    </tr>\n",
              "    <tr>\n",
              "      <th>2</th>\n",
              "      <td>3</td>\n",
              "      <td>Quercus_Hartwissiana</td>\n",
              "      <td>0.005859</td>\n",
              "      <td>0.009766</td>\n",
              "      <td>0.019531</td>\n",
              "      <td>0.007812</td>\n",
              "      <td>0.003906</td>\n",
              "      <td>0.005859</td>\n",
              "      <td>0.068359</td>\n",
              "      <td>0.0</td>\n",
              "      <td>...</td>\n",
              "      <td>0.154300</td>\n",
              "      <td>0.000000</td>\n",
              "      <td>0.005859</td>\n",
              "      <td>0.000977</td>\n",
              "      <td>0.007812</td>\n",
              "      <td>0.0</td>\n",
              "      <td>0.0</td>\n",
              "      <td>0.000000</td>\n",
              "      <td>0.020508</td>\n",
              "      <td>0.002930</td>\n",
              "    </tr>\n",
              "    <tr>\n",
              "      <th>3</th>\n",
              "      <td>5</td>\n",
              "      <td>Tilia_Tomentosa</td>\n",
              "      <td>0.000000</td>\n",
              "      <td>0.003906</td>\n",
              "      <td>0.023438</td>\n",
              "      <td>0.005859</td>\n",
              "      <td>0.021484</td>\n",
              "      <td>0.019531</td>\n",
              "      <td>0.023438</td>\n",
              "      <td>0.0</td>\n",
              "      <td>...</td>\n",
              "      <td>0.000000</td>\n",
              "      <td>0.000977</td>\n",
              "      <td>0.000000</td>\n",
              "      <td>0.000000</td>\n",
              "      <td>0.020508</td>\n",
              "      <td>0.0</td>\n",
              "      <td>0.0</td>\n",
              "      <td>0.017578</td>\n",
              "      <td>0.000000</td>\n",
              "      <td>0.047852</td>\n",
              "    </tr>\n",
              "    <tr>\n",
              "      <th>4</th>\n",
              "      <td>6</td>\n",
              "      <td>Quercus_Variabilis</td>\n",
              "      <td>0.005859</td>\n",
              "      <td>0.003906</td>\n",
              "      <td>0.048828</td>\n",
              "      <td>0.009766</td>\n",
              "      <td>0.013672</td>\n",
              "      <td>0.015625</td>\n",
              "      <td>0.005859</td>\n",
              "      <td>0.0</td>\n",
              "      <td>...</td>\n",
              "      <td>0.096680</td>\n",
              "      <td>0.000000</td>\n",
              "      <td>0.021484</td>\n",
              "      <td>0.000000</td>\n",
              "      <td>0.000000</td>\n",
              "      <td>0.0</td>\n",
              "      <td>0.0</td>\n",
              "      <td>0.000000</td>\n",
              "      <td>0.000000</td>\n",
              "      <td>0.031250</td>\n",
              "    </tr>\n",
              "  </tbody>\n",
              "</table>\n",
              "<p>5 rows × 194 columns</p>\n",
              "</div>"
            ],
            "text/plain": [
              "   id                species   margin1   margin2   margin3   margin4  \\\n",
              "0   1            Acer_Opalus  0.007812  0.023438  0.023438  0.003906   \n",
              "1   2  Pterocarya_Stenoptera  0.005859  0.000000  0.031250  0.015625   \n",
              "2   3   Quercus_Hartwissiana  0.005859  0.009766  0.019531  0.007812   \n",
              "3   5        Tilia_Tomentosa  0.000000  0.003906  0.023438  0.005859   \n",
              "4   6     Quercus_Variabilis  0.005859  0.003906  0.048828  0.009766   \n",
              "\n",
              "    margin5   margin6   margin7  margin8  ...  texture55  texture56  \\\n",
              "0  0.011719  0.009766  0.027344      0.0  ...   0.007812   0.000000   \n",
              "1  0.025391  0.001953  0.019531      0.0  ...   0.000977   0.000000   \n",
              "2  0.003906  0.005859  0.068359      0.0  ...   0.154300   0.000000   \n",
              "3  0.021484  0.019531  0.023438      0.0  ...   0.000000   0.000977   \n",
              "4  0.013672  0.015625  0.005859      0.0  ...   0.096680   0.000000   \n",
              "\n",
              "   texture57  texture58  texture59  texture60  texture61  texture62  \\\n",
              "0   0.002930   0.002930   0.035156        0.0        0.0   0.004883   \n",
              "1   0.000000   0.000977   0.023438        0.0        0.0   0.000977   \n",
              "2   0.005859   0.000977   0.007812        0.0        0.0   0.000000   \n",
              "3   0.000000   0.000000   0.020508        0.0        0.0   0.017578   \n",
              "4   0.021484   0.000000   0.000000        0.0        0.0   0.000000   \n",
              "\n",
              "   texture63  texture64  \n",
              "0   0.000000   0.025391  \n",
              "1   0.039062   0.022461  \n",
              "2   0.020508   0.002930  \n",
              "3   0.000000   0.047852  \n",
              "4   0.000000   0.031250  \n",
              "\n",
              "[5 rows x 194 columns]"
            ]
          },
          "execution_count": 17,
          "metadata": {},
          "output_type": "execute_result"
        }
      ],
      "source": [
        "df_train = pd.read_csv('train.csv')\n",
        "df_train.head()"
      ]
    },
    {
      "cell_type": "code",
      "execution_count": 18,
      "metadata": {
        "id": "KRofGkbsrWY0"
      },
      "outputs": [],
      "source": [
        "from sklearn.preprocessing import LabelEncoder\n",
        "from sklearn.model_selection import StratifiedShuffleSplit"
      ]
    },
    {
      "cell_type": "code",
      "execution_count": 19,
      "metadata": {
        "id": "5BMhJnzErWbI"
      },
      "outputs": [],
      "source": [
        "def encode(df_train):\n",
        "    le = LabelEncoder().fit(df_train.species)\n",
        "    labels = le.transform(df_train.species) \n",
        "    \n",
        "    classes = list(le.classes_) \n",
        "    \n",
        "    \n",
        "    df_train = df_train.drop(['species','id'],axis = 1) \n",
        "\n",
        "\n",
        "    return df_train, labels, classes\n",
        "\n",
        "df_train, labels, classes = encode(df_train)"
      ]
    },
    {
      "cell_type": "code",
      "execution_count": 20,
      "metadata": {
        "id": "dQ1_cjiFrWfo"
      },
      "outputs": [],
      "source": [
        "X = df_train.values\n",
        "y = labels"
      ]
    },
    {
      "cell_type": "markdown",
      "metadata": {
        "id": "UIxL9l6ktyZE"
      },
      "source": [
        "# PCA for dimensionality reduction"
      ]
    },
    {
      "cell_type": "code",
      "execution_count": 21,
      "metadata": {
        "id": "bVi5gUrCriFl"
      },
      "outputs": [],
      "source": [
        "from sklearn.decomposition import PCA\n",
        "pca = PCA(n_components='mle', svd_solver='full')\n",
        "X=pca.fit_transform(X)\n",
        "n_components = pca.n_components_"
      ]
    },
    {
      "cell_type": "markdown",
      "metadata": {
        "id": "amUeDy-8t2q6"
      },
      "source": [
        "#Spliting the dataset into Training, Validation and Testing"
      ]
    },
    {
      "cell_type": "code",
      "execution_count": 22,
      "metadata": {
        "id": "IH6HRsDzrknb"
      },
      "outputs": [],
      "source": [
        "split = StratifiedShuffleSplit(n_splits=1, test_size=0.20, random_state=5)\n",
        "split.get_n_splits(X, y)\n",
        "for train_index, test_index in split.split(X, y):\n",
        "    \n",
        "\n",
        "    X_train, X_test = X[train_index], X[test_index]\n",
        "\n",
        "    y_train, y_test = y[train_index], y[test_index]\n",
        "  \n",
        "split = StratifiedShuffleSplit(n_splits=1, test_size=0.20, random_state=5)\n",
        "for train_val_index, val_index in split.split(X_train, y_train):\n",
        "    \n",
        "\n",
        "    X_train_val, X_val = X_train[train_val_index], X_train[val_index]\n",
        "    y_train_val, y_val = y_train[train_val_index], y_train[val_index] "
      ]
    },
    {
      "cell_type": "markdown",
      "metadata": {
        "id": "E_8cNGZ9t7lu"
      },
      "source": [
        "#KNN classifier training "
      ]
    },
    {
      "cell_type": "code",
      "execution_count": 23,
      "metadata": {
        "colab": {
          "base_uri": "https://localhost:8080/"
        },
        "id": "8p_FRjPorrte",
        "outputId": "8387f403-102b-4755-ad47-477030f8eab9"
      },
      "outputs": [
        {
          "name": "stdout",
          "output_type": "stream",
          "text": [
            "Accuracy: 82.3899%\n",
            "Log Loss: 2.1970284259393225\n"
          ]
        }
      ],
      "source": [
        "from sklearn.neighbors import KNeighborsClassifier\n",
        "from sklearn.metrics import accuracy_score, log_loss\n",
        "\n",
        "KNN_clf = KNeighborsClassifier(3)\n",
        "KNN_clf.fit(X_train_val, y_train_val) \n",
        "\n",
        "\n",
        "predictions_test_KNN = KNN_clf.predict(X_val)   \n",
        "acc_test_KNN = accuracy_score(y_val, predictions_test_KNN)\n",
        "print(\"Accuracy: {:.4%}\".format(acc_test_KNN))\n",
        "\n",
        "\n",
        "predictions_prob_test_KNN = KNN_clf.predict_proba(X_val) \n",
        "ll_test_KNN = log_loss(y_val, predictions_prob_test_KNN) \n",
        "print(\"Log Loss: {}\".format(ll_test_KNN))"
      ]
    },
    {
      "cell_type": "code",
      "execution_count": 24,
      "metadata": {
        "colab": {
          "base_uri": "https://localhost:8080/"
        },
        "id": "PFxJQWNMtZJ6",
        "outputId": "4a014aa3-b0a2-4c20-f2f3-4262f2976b7e"
      },
      "outputs": [
        {
          "name": "stdout",
          "output_type": "stream",
          "text": [
            "Test data Accuracy: 84.3434%\n"
          ]
        }
      ],
      "source": [
        "predictions_test_2 = KNN_clf.predict(X_test)  \n",
        "acc_test_2 = accuracy_score(y_test, predictions_test_2)\n",
        "print(\"Test data Accuracy: {:.4%}\".format(acc_test_2))"
      ]
    },
    {
      "cell_type": "markdown",
      "metadata": {
        "id": "eGAj0IrduMUz"
      },
      "source": [
        "# 5 Fold cross validation"
      ]
    },
    {
      "cell_type": "code",
      "execution_count": 25,
      "metadata": {
        "colab": {
          "base_uri": "https://localhost:8080/"
        },
        "id": "FqVSU9UDthwC",
        "outputId": "e899b430-b0b1-4541-a3be-16faa9cf6c88"
      },
      "outputs": [
        {
          "name": "stdout",
          "output_type": "stream",
          "text": [
            "KNeighborsClassifier(n_neighbors=3) [0.86163522 0.79874214 0.87341772 0.79113924 0.89240506]\n",
            "Cross Validation Avg Accuracy: 0.84 (+/- 0.08)\n"
          ]
        }
      ],
      "source": [
        "from sklearn.model_selection import cross_val_score\n",
        "scores = cross_val_score(KNN_clf, X_train, y_train, cv=5, scoring='f1_micro')\n",
        "print(KNN_clf,scores)\n",
        "print(\"Cross Validation Avg Accuracy: %0.2f (+/- %0.2f)\" % (scores.mean(), scores.std() * 2))"
      ]
    },
    {
      "cell_type": "markdown",
      "metadata": {
        "id": "o3mktLYhuO6t"
      },
      "source": [
        "# Grid Search"
      ]
    },
    {
      "cell_type": "code",
      "execution_count": 26,
      "metadata": {
        "colab": {
          "base_uri": "https://localhost:8080/"
        },
        "id": "MgZu87eDtyIZ",
        "outputId": "5aa7f5ad-8168-480d-a15e-21dfd146248b"
      },
      "outputs": [
        {
          "name": "stdout",
          "output_type": "stream",
          "text": [
            "{'n_neighbors': 1}\n",
            "0.8616352201257862\n"
          ]
        }
      ],
      "source": [
        "from sklearn.model_selection import GridSearchCV\n",
        "from sklearn.neighbors import KNeighborsClassifier\n",
        "\n",
        "k_range = list(range(1, 50))\n",
        "param_grid = dict(n_neighbors=k_range)\n",
        "cv= [ (train_val_index, val_index) ]\n",
        "grid = GridSearchCV(KNeighborsClassifier(), param_grid, cv=cv, scoring='accuracy')\n",
        "grid.fit(X_train, y_train)\n",
        "\n",
        "print(grid.best_params_)\n",
        "print(grid.best_score_)"
      ]
    },
    {
      "cell_type": "code",
      "execution_count": 27,
      "metadata": {
        "id": "jlvpZ2-luTCK"
      },
      "outputs": [],
      "source": [
        "y_pred = grid.best_estimator_.predict(X_test)"
      ]
    },
    {
      "cell_type": "code",
      "execution_count": 16,
      "metadata": {
        "colab": {
          "base_uri": "https://localhost:8080/"
        },
        "id": "HXkf-s-wzpd-",
        "outputId": "91771344-0b40-4e72-9145-f99b6cdc10fa"
      },
      "outputs": [
        {
          "name": "stdout",
          "output_type": "stream",
          "text": [
            "G Test data Accuracy: 90.9091%\n"
          ]
        }
      ],
      "source": [
        "\n",
        "acc_test_G = accuracy_score(y_test, y_pred)\n",
        "print(\"G Test data Accuracy: {:.4%}\".format(acc_test_G))"
      ]
    },
    {
      "cell_type": "code",
      "execution_count": 18,
      "metadata": {
        "colab": {
          "base_uri": "https://localhost:8080/"
        },
        "id": "2QVoZu2j_Cag",
        "outputId": "3830686f-3562-4238-8468-5d913828d50a"
      },
      "outputs": [
        {
          "name": "stdout",
          "output_type": "stream",
          "text": [
            "Grid Log Loss: 3.2766957626470368\n"
          ]
        }
      ],
      "source": [
        "predictions_prob_test_KNN_G = grid.best_estimator_.predict_proba(X_test) \n",
        "ll_test_KNN_G = log_loss(y_test, predictions_prob_test_KNN_G)\n",
        "print(\"Grid Log Loss: {}\".format(ll_test_KNN_G))"
      ]
    },
    {
      "cell_type": "code",
      "execution_count": 17,
      "metadata": {
        "colab": {
          "base_uri": "https://localhost:8080/"
        },
        "id": "UOgrl4aA0JZO",
        "outputId": "0d5cfa23-a058-4aeb-9e5f-710b4345d7d9"
      },
      "outputs": [
        {
          "name": "stdout",
          "output_type": "stream",
          "text": [
            "Cross-validation scores: [0.91823899 0.87421384 0.89873418 0.84810127 0.91772152]\n",
            "Average cross-validation score: 0.8914019584427992\n"
          ]
        }
      ],
      "source": [
        "from sklearn.model_selection import cross_val_score\n",
        "\n",
        "knn = KNeighborsClassifier(n_neighbors=grid.best_params_['n_neighbors'])\n",
        "scores = cross_val_score(knn, X_train, y_train, cv=5)\n",
        "\n",
        "print('Cross-validation scores:', scores)\n",
        "print('Average cross-validation score:', scores.mean())"
      ]
    },
    {
      "cell_type": "code",
      "execution_count": null,
      "metadata": {
        "colab": {
          "base_uri": "https://localhost:8080/"
        },
        "id": "YmIb4aa20uIV",
        "outputId": "caba4869-09ff-4679-eb7e-f775ff5f7659"
      },
      "outputs": [
        {
          "name": "stdout",
          "output_type": "stream",
          "text": [
            "                              precision    recall  f1-score   support\n",
            "\n",
            "             Acer_Capillipes       1.00      1.00      1.00         2\n",
            "             Acer_Circinatum       1.00      0.50      0.67         2\n",
            "                   Acer_Mono       1.00      1.00      1.00         2\n",
            "                 Acer_Opalus       1.00      1.00      1.00         2\n",
            "               Acer_Palmatum       1.00      1.00      1.00         2\n",
            "                 Acer_Pictum       1.00      1.00      1.00         2\n",
            "             Acer_Platanoids       1.00      1.00      1.00         2\n",
            "                 Acer_Rubrum       0.67      1.00      0.80         2\n",
            "              Acer_Rufinerve       0.67      1.00      0.80         2\n",
            "            Acer_Saccharinum       1.00      1.00      1.00         2\n",
            "               Alnus_Cordata       1.00      1.00      1.00         2\n",
            "          Alnus_Maximowiczii       1.00      1.00      1.00         2\n",
            "                 Alnus_Rubra       0.67      1.00      0.80         2\n",
            "           Alnus_Sieboldiana       1.00      0.50      0.67         2\n",
            "               Alnus_Viridis       1.00      1.00      1.00         2\n",
            "         Arundinaria_Simonii       1.00      1.00      1.00         2\n",
            "       Betula_Austrosinensis       1.00      1.00      1.00         2\n",
            "              Betula_Pendula       1.00      0.50      0.67         2\n",
            "        Callicarpa_Bodinieri       1.00      1.00      1.00         2\n",
            "             Castanea_Sativa       1.00      1.00      1.00         2\n",
            "           Celtis_Koraiensis       1.00      1.00      1.00         2\n",
            "         Cercis_Siliquastrum       1.00      1.00      1.00         2\n",
            "            Cornus_Chinensis       1.00      1.00      1.00         2\n",
            "          Cornus_Controversa       1.00      1.00      1.00         2\n",
            "          Cornus_Macrophylla       1.00      1.00      1.00         2\n",
            "           Cotinus_Coggygria       1.00      1.00      1.00         2\n",
            "          Crataegus_Monogyna       1.00      1.00      1.00         2\n",
            "         Cytisus_Battandieri       1.00      1.00      1.00         2\n",
            "      Eucalyptus_Glaucescens       1.00      1.00      1.00         2\n",
            "         Eucalyptus_Neglecta       1.00      1.00      1.00         2\n",
            "         Eucalyptus_Urnigera       1.00      1.00      1.00         2\n",
            "             Fagus_Sylvatica       1.00      0.50      0.67         2\n",
            "               Ginkgo_Biloba       1.00      1.00      1.00         2\n",
            "             Ilex_Aquifolium       0.67      1.00      0.80         2\n",
            "                Ilex_Cornuta       1.00      0.50      0.67         2\n",
            "     Liquidambar_Styraciflua       1.00      1.00      1.00         2\n",
            "     Liriodendron_Tulipifera       0.67      1.00      0.80         2\n",
            "   Lithocarpus_Cleistocarpus       1.00      0.50      0.67         2\n",
            "          Lithocarpus_Edulis       0.67      1.00      0.80         2\n",
            "          Magnolia_Heptapeta       1.00      1.00      1.00         2\n",
            "        Magnolia_Salicifolia       1.00      1.00      1.00         2\n",
            "                 Morus_Nigra       1.00      0.50      0.67         2\n",
            "               Olea_Europaea       1.00      1.00      1.00         2\n",
            "                 Phildelphus       1.00      1.00      1.00         2\n",
            "           Populus_Adenopoda       1.00      1.00      1.00         2\n",
            "       Populus_Grandidentata       1.00      1.00      1.00         2\n",
            "               Populus_Nigra       0.50      0.50      0.50         2\n",
            "                Prunus_Avium       0.67      1.00      0.80         2\n",
            "           Prunus_X_Shmittii       1.00      1.00      1.00         2\n",
            "       Pterocarya_Stenoptera       1.00      1.00      1.00         2\n",
            "              Quercus_Afares       0.50      0.50      0.50         2\n",
            "           Quercus_Agrifolia       1.00      1.00      1.00         2\n",
            "           Quercus_Alnifolia       0.50      1.00      0.67         2\n",
            "             Quercus_Brantii       1.00      0.50      0.67         2\n",
            "         Quercus_Canariensis       1.00      1.00      1.00         2\n",
            "       Quercus_Castaneifolia       1.00      1.00      1.00         2\n",
            "              Quercus_Cerris       0.67      1.00      0.80         2\n",
            "         Quercus_Chrysolepis       1.00      1.00      1.00         2\n",
            "           Quercus_Coccifera       1.00      1.00      1.00         2\n",
            "            Quercus_Coccinea       0.67      1.00      0.80         2\n",
            "         Quercus_Crassifolia       1.00      1.00      1.00         2\n",
            "           Quercus_Crassipes       1.00      1.00      1.00         2\n",
            "        Quercus_Dolicholepis       1.00      1.00      1.00         2\n",
            "       Quercus_Ellipsoidalis       1.00      0.50      0.67         2\n",
            "             Quercus_Greggii       1.00      1.00      1.00         2\n",
            "        Quercus_Hartwissiana       1.00      1.00      1.00         2\n",
            "                Quercus_Ilex       1.00      1.00      1.00         2\n",
            "          Quercus_Imbricaria       1.00      1.00      1.00         2\n",
            "      Quercus_Infectoria_sub       1.00      1.00      1.00         2\n",
            "            Quercus_Kewensis       0.50      1.00      0.67         2\n",
            "               Quercus_Nigra       1.00      1.00      1.00         2\n",
            "           Quercus_Palustris       1.00      0.50      0.67         2\n",
            "             Quercus_Phellos       1.00      1.00      1.00         2\n",
            "      Quercus_Phillyraeoides       1.00      1.00      1.00         2\n",
            "             Quercus_Pontica       1.00      1.00      1.00         2\n",
            "           Quercus_Pubescens       1.00      0.50      0.67         2\n",
            "           Quercus_Pyrenaica       0.67      1.00      0.80         2\n",
            "         Quercus_Rhysophylla       1.00      1.00      1.00         2\n",
            "               Quercus_Rubra       1.00      1.00      1.00         2\n",
            "      Quercus_Semecarpifolia       1.00      0.50      0.67         2\n",
            "           Quercus_Shumardii       1.00      1.00      1.00         2\n",
            "               Quercus_Suber       1.00      1.00      1.00         2\n",
            "              Quercus_Texana       0.67      1.00      0.80         2\n",
            "             Quercus_Trojana       0.00      0.00      0.00         2\n",
            "          Quercus_Variabilis       1.00      1.00      1.00         2\n",
            "           Quercus_Vulcanica       1.00      0.50      0.67         2\n",
            "         Quercus_x_Hispanica       0.67      1.00      0.80         2\n",
            "           Quercus_x_Turneri       1.00      1.00      1.00         2\n",
            " Rhododendron_x_Russellianum       1.00      1.00      1.00         2\n",
            "              Salix_Fragilis       1.00      1.00      1.00         2\n",
            "              Salix_Intergra       1.00      0.50      0.67         2\n",
            "                 Sorbus_Aria       1.00      1.00      1.00         2\n",
            "               Tilia_Oliveri       1.00      1.00      1.00         2\n",
            "          Tilia_Platyphyllos       1.00      1.00      1.00         2\n",
            "             Tilia_Tomentosa       1.00      1.00      1.00         2\n",
            "          Ulmus_Bergmanniana       1.00      1.00      1.00         2\n",
            "              Viburnum_Tinus       1.00      1.00      1.00         2\n",
            "Viburnum_x_Rhytidophylloides       1.00      1.00      1.00         2\n",
            "             Zelkova_Serrata       1.00      1.00      1.00         2\n",
            "\n",
            "                    accuracy                           0.91       198\n",
            "                   macro avg       0.93      0.91      0.90       198\n",
            "                weighted avg       0.93      0.91      0.90       198\n",
            "\n"
          ]
        },
        {
          "name": "stderr",
          "output_type": "stream",
          "text": [
            "/usr/local/lib/python3.9/dist-packages/sklearn/metrics/_classification.py:1344: UndefinedMetricWarning: Precision and F-score are ill-defined and being set to 0.0 in labels with no predicted samples. Use `zero_division` parameter to control this behavior.\n",
            "  _warn_prf(average, modifier, msg_start, len(result))\n",
            "/usr/local/lib/python3.9/dist-packages/sklearn/metrics/_classification.py:1344: UndefinedMetricWarning: Precision and F-score are ill-defined and being set to 0.0 in labels with no predicted samples. Use `zero_division` parameter to control this behavior.\n",
            "  _warn_prf(average, modifier, msg_start, len(result))\n",
            "/usr/local/lib/python3.9/dist-packages/sklearn/metrics/_classification.py:1344: UndefinedMetricWarning: Precision and F-score are ill-defined and being set to 0.0 in labels with no predicted samples. Use `zero_division` parameter to control this behavior.\n",
            "  _warn_prf(average, modifier, msg_start, len(result))\n"
          ]
        }
      ],
      "source": [
        "from sklearn.metrics import classification_report\n",
        "report_RF = classification_report(y_test, y_pred, target_names=classes)\n",
        "print(report_RF)"
      ]
    }
  ],
  "metadata": {
    "accelerator": "GPU",
    "colab": {
      "machine_shape": "hm",
      "provenance": []
    },
    "gpuClass": "standard",
    "kernelspec": {
      "display_name": "Python 3",
      "name": "python3"
    },
    "language_info": {
      "codemirror_mode": {
        "name": "ipython",
        "version": 3
      },
      "file_extension": ".py",
      "mimetype": "text/x-python",
      "name": "python",
      "nbconvert_exporter": "python",
      "pygments_lexer": "ipython3",
      "version": "3.7.3"
    }
  },
  "nbformat": 4,
  "nbformat_minor": 0
}
