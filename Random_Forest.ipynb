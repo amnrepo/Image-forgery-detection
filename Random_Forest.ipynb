{
  "cells": [
    {
      "cell_type": "code",
      "execution_count": 3,
      "metadata": {
        "id": "-lO05rP71qdw"
      },
      "outputs": [],
      "source": [
        "import numpy as np \n",
        "import pandas as pd \n"
      ]
    },
    {
      "cell_type": "code",
      "execution_count": 4,
      "metadata": {
        "id": "BzEipTwt1sAm"
      },
      "outputs": [],
      "source": [
        "import tensorflow as tf\n",
        "from tensorflow.keras import models,layers\n",
        "import matplotlib.pyplot as plt\n",
        "import zipfile"
      ]
    },
    {
      "cell_type": "code",
      "execution_count": 5,
      "metadata": {
        "colab": {
          "base_uri": "https://localhost:8080/",
          "height": 299
        },
        "id": "hzW5S9O41tsQ",
        "outputId": "c08ffcf3-f6c2-4354-8d26-aae5b981d02f"
      },
      "outputs": [
        {
          "data": {
            "text/html": [
              "<div>\n",
              "<style scoped>\n",
              "    .dataframe tbody tr th:only-of-type {\n",
              "        vertical-align: middle;\n",
              "    }\n",
              "\n",
              "    .dataframe tbody tr th {\n",
              "        vertical-align: top;\n",
              "    }\n",
              "\n",
              "    .dataframe thead th {\n",
              "        text-align: right;\n",
              "    }\n",
              "</style>\n",
              "<table border=\"1\" class=\"dataframe\">\n",
              "  <thead>\n",
              "    <tr style=\"text-align: right;\">\n",
              "      <th></th>\n",
              "      <th>id</th>\n",
              "      <th>species</th>\n",
              "      <th>margin1</th>\n",
              "      <th>margin2</th>\n",
              "      <th>margin3</th>\n",
              "      <th>margin4</th>\n",
              "      <th>margin5</th>\n",
              "      <th>margin6</th>\n",
              "      <th>margin7</th>\n",
              "      <th>margin8</th>\n",
              "      <th>...</th>\n",
              "      <th>texture55</th>\n",
              "      <th>texture56</th>\n",
              "      <th>texture57</th>\n",
              "      <th>texture58</th>\n",
              "      <th>texture59</th>\n",
              "      <th>texture60</th>\n",
              "      <th>texture61</th>\n",
              "      <th>texture62</th>\n",
              "      <th>texture63</th>\n",
              "      <th>texture64</th>\n",
              "    </tr>\n",
              "  </thead>\n",
              "  <tbody>\n",
              "    <tr>\n",
              "      <th>0</th>\n",
              "      <td>1</td>\n",
              "      <td>Acer_Opalus</td>\n",
              "      <td>0.007812</td>\n",
              "      <td>0.023438</td>\n",
              "      <td>0.023438</td>\n",
              "      <td>0.003906</td>\n",
              "      <td>0.011719</td>\n",
              "      <td>0.009766</td>\n",
              "      <td>0.027344</td>\n",
              "      <td>0.0</td>\n",
              "      <td>...</td>\n",
              "      <td>0.007812</td>\n",
              "      <td>0.000000</td>\n",
              "      <td>0.002930</td>\n",
              "      <td>0.002930</td>\n",
              "      <td>0.035156</td>\n",
              "      <td>0.0</td>\n",
              "      <td>0.0</td>\n",
              "      <td>0.004883</td>\n",
              "      <td>0.000000</td>\n",
              "      <td>0.025391</td>\n",
              "    </tr>\n",
              "    <tr>\n",
              "      <th>1</th>\n",
              "      <td>2</td>\n",
              "      <td>Pterocarya_Stenoptera</td>\n",
              "      <td>0.005859</td>\n",
              "      <td>0.000000</td>\n",
              "      <td>0.031250</td>\n",
              "      <td>0.015625</td>\n",
              "      <td>0.025391</td>\n",
              "      <td>0.001953</td>\n",
              "      <td>0.019531</td>\n",
              "      <td>0.0</td>\n",
              "      <td>...</td>\n",
              "      <td>0.000977</td>\n",
              "      <td>0.000000</td>\n",
              "      <td>0.000000</td>\n",
              "      <td>0.000977</td>\n",
              "      <td>0.023438</td>\n",
              "      <td>0.0</td>\n",
              "      <td>0.0</td>\n",
              "      <td>0.000977</td>\n",
              "      <td>0.039062</td>\n",
              "      <td>0.022461</td>\n",
              "    </tr>\n",
              "    <tr>\n",
              "      <th>2</th>\n",
              "      <td>3</td>\n",
              "      <td>Quercus_Hartwissiana</td>\n",
              "      <td>0.005859</td>\n",
              "      <td>0.009766</td>\n",
              "      <td>0.019531</td>\n",
              "      <td>0.007812</td>\n",
              "      <td>0.003906</td>\n",
              "      <td>0.005859</td>\n",
              "      <td>0.068359</td>\n",
              "      <td>0.0</td>\n",
              "      <td>...</td>\n",
              "      <td>0.154300</td>\n",
              "      <td>0.000000</td>\n",
              "      <td>0.005859</td>\n",
              "      <td>0.000977</td>\n",
              "      <td>0.007812</td>\n",
              "      <td>0.0</td>\n",
              "      <td>0.0</td>\n",
              "      <td>0.000000</td>\n",
              "      <td>0.020508</td>\n",
              "      <td>0.002930</td>\n",
              "    </tr>\n",
              "    <tr>\n",
              "      <th>3</th>\n",
              "      <td>5</td>\n",
              "      <td>Tilia_Tomentosa</td>\n",
              "      <td>0.000000</td>\n",
              "      <td>0.003906</td>\n",
              "      <td>0.023438</td>\n",
              "      <td>0.005859</td>\n",
              "      <td>0.021484</td>\n",
              "      <td>0.019531</td>\n",
              "      <td>0.023438</td>\n",
              "      <td>0.0</td>\n",
              "      <td>...</td>\n",
              "      <td>0.000000</td>\n",
              "      <td>0.000977</td>\n",
              "      <td>0.000000</td>\n",
              "      <td>0.000000</td>\n",
              "      <td>0.020508</td>\n",
              "      <td>0.0</td>\n",
              "      <td>0.0</td>\n",
              "      <td>0.017578</td>\n",
              "      <td>0.000000</td>\n",
              "      <td>0.047852</td>\n",
              "    </tr>\n",
              "    <tr>\n",
              "      <th>4</th>\n",
              "      <td>6</td>\n",
              "      <td>Quercus_Variabilis</td>\n",
              "      <td>0.005859</td>\n",
              "      <td>0.003906</td>\n",
              "      <td>0.048828</td>\n",
              "      <td>0.009766</td>\n",
              "      <td>0.013672</td>\n",
              "      <td>0.015625</td>\n",
              "      <td>0.005859</td>\n",
              "      <td>0.0</td>\n",
              "      <td>...</td>\n",
              "      <td>0.096680</td>\n",
              "      <td>0.000000</td>\n",
              "      <td>0.021484</td>\n",
              "      <td>0.000000</td>\n",
              "      <td>0.000000</td>\n",
              "      <td>0.0</td>\n",
              "      <td>0.0</td>\n",
              "      <td>0.000000</td>\n",
              "      <td>0.000000</td>\n",
              "      <td>0.031250</td>\n",
              "    </tr>\n",
              "  </tbody>\n",
              "</table>\n",
              "<p>5 rows × 194 columns</p>\n",
              "</div>"
            ],
            "text/plain": [
              "   id                species   margin1   margin2   margin3   margin4  \\\n",
              "0   1            Acer_Opalus  0.007812  0.023438  0.023438  0.003906   \n",
              "1   2  Pterocarya_Stenoptera  0.005859  0.000000  0.031250  0.015625   \n",
              "2   3   Quercus_Hartwissiana  0.005859  0.009766  0.019531  0.007812   \n",
              "3   5        Tilia_Tomentosa  0.000000  0.003906  0.023438  0.005859   \n",
              "4   6     Quercus_Variabilis  0.005859  0.003906  0.048828  0.009766   \n",
              "\n",
              "    margin5   margin6   margin7  margin8  ...  texture55  texture56  \\\n",
              "0  0.011719  0.009766  0.027344      0.0  ...   0.007812   0.000000   \n",
              "1  0.025391  0.001953  0.019531      0.0  ...   0.000977   0.000000   \n",
              "2  0.003906  0.005859  0.068359      0.0  ...   0.154300   0.000000   \n",
              "3  0.021484  0.019531  0.023438      0.0  ...   0.000000   0.000977   \n",
              "4  0.013672  0.015625  0.005859      0.0  ...   0.096680   0.000000   \n",
              "\n",
              "   texture57  texture58  texture59  texture60  texture61  texture62  \\\n",
              "0   0.002930   0.002930   0.035156        0.0        0.0   0.004883   \n",
              "1   0.000000   0.000977   0.023438        0.0        0.0   0.000977   \n",
              "2   0.005859   0.000977   0.007812        0.0        0.0   0.000000   \n",
              "3   0.000000   0.000000   0.020508        0.0        0.0   0.017578   \n",
              "4   0.021484   0.000000   0.000000        0.0        0.0   0.000000   \n",
              "\n",
              "   texture63  texture64  \n",
              "0   0.000000   0.025391  \n",
              "1   0.039062   0.022461  \n",
              "2   0.020508   0.002930  \n",
              "3   0.000000   0.047852  \n",
              "4   0.000000   0.031250  \n",
              "\n",
              "[5 rows x 194 columns]"
            ]
          },
          "execution_count": 5,
          "metadata": {},
          "output_type": "execute_result"
        }
      ],
      "source": [
        "df_train = pd.read_csv('train.csv')\n",
        "df_train.head()"
      ]
    },
    {
      "cell_type": "code",
      "execution_count": 6,
      "metadata": {
        "id": "yDYkjCF-1x7S"
      },
      "outputs": [],
      "source": [
        "from sklearn.preprocessing import LabelEncoder\n",
        "from sklearn.model_selection import StratifiedShuffleSplit"
      ]
    },
    {
      "cell_type": "markdown",
      "metadata": {
        "id": "2Bk7PXpZrH94"
      },
      "source": [
        "# Label Encoding "
      ]
    },
    {
      "cell_type": "code",
      "execution_count": 7,
      "metadata": {
        "id": "2uAictMR10IP"
      },
      "outputs": [],
      "source": [
        "def encode(df_train):\n",
        "    le = LabelEncoder().fit(df_train.species)\n",
        "    labels = le.transform(df_train.species) \n",
        "    \n",
        "    classes = list(le.classes_) \n",
        "    \n",
        "    \n",
        "    df_train = df_train.drop(['species','id'],axis = 1) \n",
        "\n",
        "    return df_train, labels, classes\n",
        "\n",
        "df_train, labels, classes = encode(df_train)"
      ]
    },
    {
      "cell_type": "code",
      "execution_count": 8,
      "metadata": {
        "id": "-xCqC7Fs17Tr"
      },
      "outputs": [],
      "source": [
        "X = df_train.values\n",
        "y = labels"
      ]
    },
    {
      "cell_type": "markdown",
      "metadata": {
        "id": "qquX3sOwrTrh"
      },
      "source": [
        "# PCA for dimensionality reduction"
      ]
    },
    {
      "cell_type": "code",
      "execution_count": 9,
      "metadata": {
        "id": "iQKG5k1Rs8Jo"
      },
      "outputs": [],
      "source": [
        "from sklearn.decomposition import PCA\n",
        "pca = PCA(n_components='mle', svd_solver='full')\n",
        "X=pca.fit_transform(X)\n",
        "n_components = pca.n_components_"
      ]
    },
    {
      "cell_type": "code",
      "execution_count": 10,
      "metadata": {
        "colab": {
          "base_uri": "https://localhost:8080/"
        },
        "id": "OKTmq8xe183B",
        "outputId": "fa135527-de71-4c2a-d4d7-3c73e58d992b"
      },
      "outputs": [
        {
          "data": {
            "text/plain": [
              "1"
            ]
          },
          "execution_count": 10,
          "metadata": {},
          "output_type": "execute_result"
        }
      ],
      "source": [
        "split = StratifiedShuffleSplit(n_splits=1, test_size=0.20, random_state=5)\n",
        "split.get_n_splits(X, y)"
      ]
    },
    {
      "cell_type": "markdown",
      "metadata": {
        "id": "wdjNIzakrjrR"
      },
      "source": [
        "#Spliting the dataset into Training, Validation and Testing"
      ]
    },
    {
      "cell_type": "code",
      "execution_count": 11,
      "metadata": {
        "id": "_gUDYQ721_cS"
      },
      "outputs": [],
      "source": [
        "for train_index, test_index in split.split(X, y):\n",
        "    \n",
        "   \n",
        "    X_train, X_test = X[train_index], X[test_index]\n",
        "    \n",
        "    y_train, y_test = y[train_index], y[test_index]"
      ]
    },
    {
      "cell_type": "code",
      "execution_count": 12,
      "metadata": {
        "id": "W6-j_-9pvKa9"
      },
      "outputs": [],
      "source": [
        "split = StratifiedShuffleSplit(n_splits=1, test_size=0.20, random_state=5)\n",
        "for train_val_index, val_index in split.split(X_train, y_train):\n",
        "    \n",
        "\n",
        "    X_train_val, X_val = X_train[train_val_index], X_train[val_index]\n",
        "    y_train_val, y_val = y_train[train_val_index], y_train[val_index] \n"
      ]
    },
    {
      "cell_type": "markdown",
      "metadata": {
        "id": "6b8YZsbSrtON"
      },
      "source": [
        "#Random Forest classifier training and testing"
      ]
    },
    {
      "cell_type": "code",
      "execution_count": 13,
      "metadata": {
        "colab": {
          "base_uri": "https://localhost:8080/"
        },
        "id": "1T_ylrx52Ck0",
        "outputId": "914d1304-8713-4b74-9a09-5ca03acb29e7"
      },
      "outputs": [
        {
          "name": "stdout",
          "output_type": "stream",
          "text": [
            "Validation Accuracy : 83.0189%\n",
            "Validation Log Loss: 1.7496383282929306\n"
          ]
        }
      ],
      "source": [
        "from sklearn.metrics import accuracy_score, log_loss\n",
        "from sklearn.ensemble import RandomForestClassifier\n",
        "\n",
        "\n",
        "clf = RandomForestClassifier()\n",
        "clf.fit(X_train_val, y_train_val) \n",
        "\n",
        "\n",
        "predictions_test = clf.predict(X_val)  \n",
        "acc_test = accuracy_score(y_val, predictions_test)\n",
        "print(\"Validation Accuracy : {:.4%}\".format(acc_test))\n",
        "\n",
        "predictions_prob_test = clf.predict_proba(X_val) \n",
        "ll_test_rf = log_loss(y_val, predictions_prob_test)\n",
        "print(\"Validation Log Loss: {}\".format(ll_test_rf))"
      ]
    },
    {
      "cell_type": "markdown",
      "metadata": {
        "id": "ZfQHOw7Qr1SW"
      },
      "source": [
        "# 5 Fold cross validation "
      ]
    },
    {
      "cell_type": "code",
      "execution_count": 14,
      "metadata": {
        "colab": {
          "base_uri": "https://localhost:8080/"
        },
        "id": "Sz3O_SMerjSd",
        "outputId": "e19d4b08-290a-4e00-abac-35b69a4861e8"
      },
      "outputs": [
        {
          "name": "stdout",
          "output_type": "stream",
          "text": [
            "RandomForestClassifier() [0.90566038 0.89937107 0.89240506 0.85443038 0.91139241]\n",
            "Cross Validation Avg Accuracy: 0.89 (+/- 0.04)\n"
          ]
        }
      ],
      "source": [
        "from sklearn.model_selection import cross_val_score\n",
        "scores = cross_val_score(clf, X_train, y_train, cv=5, scoring='f1_micro')\n",
        "print(clf,scores)\n",
        "print(\"Cross Validation Avg Accuracy: %0.2f (+/- %0.2f)\" % (scores.mean(), scores.std() * 2))"
      ]
    },
    {
      "cell_type": "code",
      "execution_count": null,
      "metadata": {
        "colab": {
          "base_uri": "https://localhost:8080/"
        },
        "id": "VB0ZVivN5GqM",
        "outputId": "153c9273-42c0-4228-ef1a-01739369d314"
      },
      "outputs": [
        {
          "name": "stdout",
          "output_type": "stream",
          "text": [
            "Test data Accuracy: 87.8788%\n"
          ]
        }
      ],
      "source": [
        "predictions_test_2 = clf.predict(X_test)  \n",
        "acc_test_2 = accuracy_score(y_test, predictions_test_2)\n",
        "print(\"Test data Accuracy: {:.4%}\".format(acc_test_2))"
      ]
    },
    {
      "cell_type": "markdown",
      "metadata": {
        "id": "BeFta-QYr-GF"
      },
      "source": [
        "# Bayesian Optimization for hyperparameter tuning"
      ]
    },
    {
      "cell_type": "code",
      "execution_count": null,
      "metadata": {
        "colab": {
          "base_uri": "https://localhost:8080/"
        },
        "id": "YNdGg6usfsFq",
        "outputId": "daeed810-11d5-4b8f-f73c-272fec177381"
      },
      "outputs": [
        {
          "name": "stderr",
          "output_type": "stream",
          "text": [
            "/usr/local/lib/python3.9/dist-packages/skopt/optimizer/optimizer.py:449: UserWarning: The objective has been evaluated at this point before.\n",
            "  warnings.warn(\"The objective has been evaluated \"\n",
            "/usr/local/lib/python3.9/dist-packages/skopt/optimizer/optimizer.py:449: UserWarning: The objective has been evaluated at this point before.\n",
            "  warnings.warn(\"The objective has been evaluated \"\n",
            "/usr/local/lib/python3.9/dist-packages/skopt/optimizer/optimizer.py:449: UserWarning: The objective has been evaluated at this point before.\n",
            "  warnings.warn(\"The objective has been evaluated \"\n"
          ]
        },
        {
          "name": "stdout",
          "output_type": "stream",
          "text": [
            "Best hyperparameters:  [170, 32, 2]\n",
            "Best F1 score:  0.8269360269360269\n"
          ]
        }
      ],
      "source": [
        "from skopt import gp_minimize\n",
        "from skopt import space\n",
        "from sklearn.ensemble import RandomForestClassifier\n",
        "from sklearn.metrics import f1_score\n",
        "from sklearn.model_selection import cross_val_score\n",
        "\n",
        "# Define the objective function\n",
        "def objective(params):\n",
        "    n_estimators = params[0]\n",
        "    max_depth = params[1]\n",
        "    min_samples_split = params[2]\n",
        "    \n",
        "    # Initialize the random forest classifier with the given hyperparameters\n",
        "    rf = RandomForestClassifier(n_estimators=n_estimators, max_depth=max_depth, min_samples_split=min_samples_split)\n",
        "    \n",
        "    # Compute the F1 score of the random forest classifier on the validation set\n",
        "    f1 = cross_val_score(rf, X_train, y_train, cv=5, scoring='f1_macro').mean()\n",
        "    \n",
        "    return -f1\n",
        "\n",
        "# Define the search space\n",
        "search_space = [space.Integer(10, 170, name='n_estimators'),\n",
        "                space.Integer(2, 34, name='max_depth'),\n",
        "                space.Integer(2, 12, name='min_samples_split')]\n",
        "\n",
        "# Run the optimization\n",
        "result = gp_minimize(objective, search_space, n_calls=50)\n",
        "\n",
        "# Print the best hyperparameters and the corresponding F1 score\n",
        "print(\"Best hyperparameters: \", result.x)\n",
        "rf_best = RandomForestClassifier(n_estimators=result.x[0], max_depth=result.x[1], min_samples_split=result.x[2])\n",
        "rf_best.fit(X_train_val, y_train_val)\n",
        "y_pred = rf_best.predict(X_val)\n",
        "f1_best = f1_score(y_val, y_pred, average='macro')\n",
        "print(\"Best F1 score: \", f1_best)\n"
      ]
    },
    {
      "cell_type": "code",
      "execution_count": null,
      "metadata": {
        "colab": {
          "base_uri": "https://localhost:8080/"
        },
        "id": "5Gx4P3SYzdp_",
        "outputId": "1c55b7f4-09e6-4f45-ab39-1b119a26f213"
      },
      "outputs": [
        {
          "name": "stdout",
          "output_type": "stream",
          "text": [
            "BO Validation data Accuracy: 84.9057%\n"
          ]
        }
      ],
      "source": [
        "acc_val_B = accuracy_score(y_val, y_pred)\n",
        "print(\"BO Validation data Accuracy: {:.4%}\".format(acc_val_B))"
      ]
    },
    {
      "cell_type": "code",
      "execution_count": null,
      "metadata": {
        "colab": {
          "base_uri": "https://localhost:8080/"
        },
        "id": "hKaRpWJ3Atwy",
        "outputId": "57709f49-b5b0-46f7-bc37-7c4e04238cfb"
      },
      "outputs": [
        {
          "name": "stdout",
          "output_type": "stream",
          "text": [
            "BO Test data Accuracy: 91.4141%\n"
          ]
        }
      ],
      "source": [
        "y_pred_Test_B = rf_best.predict(X_test)\n",
        "acc_test_B = accuracy_score(y_test, y_pred_Test_B)\n",
        "print(\"BO Test data Accuracy: {:.4%}\".format(acc_test_B))"
      ]
    },
    {
      "cell_type": "code",
      "execution_count": null,
      "metadata": {
        "colab": {
          "base_uri": "https://localhost:8080/"
        },
        "id": "ajM41kLREcUr",
        "outputId": "803fa829-18fe-42e2-a0f9-2d041cc7077c"
      },
      "outputs": [
        {
          "name": "stdout",
          "output_type": "stream",
          "text": [
            "RandomForestClassifier(max_depth=32, n_estimators=170) [0.91194969 0.90566038 0.91139241 0.90506329 0.90506329]\n",
            "Cross Validation Avg Accuracy: 0.91 (+/- 0.01)\n"
          ]
        }
      ],
      "source": [
        "from sklearn.model_selection import cross_val_score\n",
        "scores_BO = cross_val_score(rf_best, X_train, y_train, cv=5, scoring='f1_micro')\n",
        "print(rf_best,scores_BO)\n",
        "print(\"Cross Validation Avg Accuracy: %0.2f (+/- %0.2f)\" % (scores_BO.mean(), scores_BO.std() * 2))"
      ]
    },
    {
      "cell_type": "markdown",
      "metadata": {
        "id": "Gj0zf4H6sIOA"
      },
      "source": [
        "#Classification report"
      ]
    },
    {
      "cell_type": "code",
      "execution_count": null,
      "metadata": {
        "colab": {
          "base_uri": "https://localhost:8080/"
        },
        "id": "O6QI7HhFEJwe",
        "outputId": "ff6d0dc8-391d-4325-f098-0318207c23d7"
      },
      "outputs": [
        {
          "name": "stdout",
          "output_type": "stream",
          "text": [
            "                              precision    recall  f1-score   support\n",
            "\n",
            "             Acer_Capillipes       1.00      1.00      1.00         2\n",
            "             Acer_Circinatum       1.00      0.50      0.67         2\n",
            "                   Acer_Mono       1.00      1.00      1.00         2\n",
            "                 Acer_Opalus       1.00      1.00      1.00         2\n",
            "               Acer_Palmatum       1.00      1.00      1.00         2\n",
            "                 Acer_Pictum       1.00      1.00      1.00         2\n",
            "             Acer_Platanoids       1.00      1.00      1.00         2\n",
            "                 Acer_Rubrum       0.40      1.00      0.57         2\n",
            "              Acer_Rufinerve       1.00      1.00      1.00         2\n",
            "            Acer_Saccharinum       1.00      0.50      0.67         2\n",
            "               Alnus_Cordata       0.67      1.00      0.80         2\n",
            "          Alnus_Maximowiczii       1.00      1.00      1.00         2\n",
            "                 Alnus_Rubra       0.67      1.00      0.80         2\n",
            "           Alnus_Sieboldiana       1.00      1.00      1.00         2\n",
            "               Alnus_Viridis       1.00      1.00      1.00         2\n",
            "         Arundinaria_Simonii       1.00      1.00      1.00         2\n",
            "       Betula_Austrosinensis       1.00      1.00      1.00         2\n",
            "              Betula_Pendula       1.00      0.50      0.67         2\n",
            "        Callicarpa_Bodinieri       1.00      0.50      0.67         2\n",
            "             Castanea_Sativa       1.00      1.00      1.00         2\n",
            "           Celtis_Koraiensis       1.00      1.00      1.00         2\n",
            "         Cercis_Siliquastrum       0.67      1.00      0.80         2\n",
            "            Cornus_Chinensis       1.00      1.00      1.00         2\n",
            "          Cornus_Controversa       1.00      1.00      1.00         2\n",
            "          Cornus_Macrophylla       0.50      1.00      0.67         2\n",
            "           Cotinus_Coggygria       1.00      1.00      1.00         2\n",
            "          Crataegus_Monogyna       1.00      1.00      1.00         2\n",
            "         Cytisus_Battandieri       1.00      1.00      1.00         2\n",
            "      Eucalyptus_Glaucescens       0.67      1.00      0.80         2\n",
            "         Eucalyptus_Neglecta       1.00      1.00      1.00         2\n",
            "         Eucalyptus_Urnigera       1.00      1.00      1.00         2\n",
            "             Fagus_Sylvatica       1.00      0.50      0.67         2\n",
            "               Ginkgo_Biloba       0.67      1.00      0.80         2\n",
            "             Ilex_Aquifolium       1.00      1.00      1.00         2\n",
            "                Ilex_Cornuta       0.00      0.00      0.00         2\n",
            "     Liquidambar_Styraciflua       1.00      1.00      1.00         2\n",
            "     Liriodendron_Tulipifera       1.00      1.00      1.00         2\n",
            "   Lithocarpus_Cleistocarpus       1.00      1.00      1.00         2\n",
            "          Lithocarpus_Edulis       1.00      0.50      0.67         2\n",
            "          Magnolia_Heptapeta       1.00      1.00      1.00         2\n",
            "        Magnolia_Salicifolia       0.50      1.00      0.67         2\n",
            "                 Morus_Nigra       0.00      0.00      0.00         2\n",
            "               Olea_Europaea       1.00      0.50      0.67         2\n",
            "                 Phildelphus       1.00      1.00      1.00         2\n",
            "           Populus_Adenopoda       1.00      0.50      0.67         2\n",
            "       Populus_Grandidentata       1.00      1.00      1.00         2\n",
            "               Populus_Nigra       1.00      1.00      1.00         2\n",
            "                Prunus_Avium       1.00      1.00      1.00         2\n",
            "           Prunus_X_Shmittii       1.00      1.00      1.00         2\n",
            "       Pterocarya_Stenoptera       1.00      0.50      0.67         2\n",
            "              Quercus_Afares       1.00      0.50      0.67         2\n",
            "           Quercus_Agrifolia       1.00      1.00      1.00         2\n",
            "           Quercus_Alnifolia       0.67      1.00      0.80         2\n",
            "             Quercus_Brantii       1.00      1.00      1.00         2\n",
            "         Quercus_Canariensis       1.00      1.00      1.00         2\n",
            "       Quercus_Castaneifolia       1.00      1.00      1.00         2\n",
            "              Quercus_Cerris       1.00      1.00      1.00         2\n",
            "         Quercus_Chrysolepis       1.00      1.00      1.00         2\n",
            "           Quercus_Coccifera       1.00      1.00      1.00         2\n",
            "            Quercus_Coccinea       0.67      1.00      0.80         2\n",
            "         Quercus_Crassifolia       1.00      1.00      1.00         2\n",
            "           Quercus_Crassipes       1.00      1.00      1.00         2\n",
            "        Quercus_Dolicholepis       0.67      1.00      0.80         2\n",
            "       Quercus_Ellipsoidalis       1.00      1.00      1.00         2\n",
            "             Quercus_Greggii       1.00      1.00      1.00         2\n",
            "        Quercus_Hartwissiana       0.67      1.00      0.80         2\n",
            "                Quercus_Ilex       1.00      1.00      1.00         2\n",
            "          Quercus_Imbricaria       1.00      1.00      1.00         2\n",
            "      Quercus_Infectoria_sub       1.00      1.00      1.00         2\n",
            "            Quercus_Kewensis       1.00      1.00      1.00         2\n",
            "               Quercus_Nigra       1.00      1.00      1.00         2\n",
            "           Quercus_Palustris       1.00      0.50      0.67         2\n",
            "             Quercus_Phellos       1.00      1.00      1.00         2\n",
            "      Quercus_Phillyraeoides       1.00      1.00      1.00         2\n",
            "             Quercus_Pontica       1.00      1.00      1.00         2\n",
            "           Quercus_Pubescens       1.00      1.00      1.00         2\n",
            "           Quercus_Pyrenaica       0.50      0.50      0.50         2\n",
            "         Quercus_Rhysophylla       1.00      1.00      1.00         2\n",
            "               Quercus_Rubra       1.00      1.00      1.00         2\n",
            "      Quercus_Semecarpifolia       1.00      1.00      1.00         2\n",
            "           Quercus_Shumardii       1.00      1.00      1.00         2\n",
            "               Quercus_Suber       1.00      0.50      0.67         2\n",
            "              Quercus_Texana       1.00      1.00      1.00         2\n",
            "             Quercus_Trojana       0.50      0.50      0.50         2\n",
            "          Quercus_Variabilis       1.00      1.00      1.00         2\n",
            "           Quercus_Vulcanica       0.50      0.50      0.50         2\n",
            "         Quercus_x_Hispanica       0.67      1.00      0.80         2\n",
            "           Quercus_x_Turneri       1.00      0.50      0.67         2\n",
            " Rhododendron_x_Russellianum       1.00      1.00      1.00         2\n",
            "              Salix_Fragilis       1.00      1.00      1.00         2\n",
            "              Salix_Intergra       1.00      1.00      1.00         2\n",
            "                 Sorbus_Aria       1.00      1.00      1.00         2\n",
            "               Tilia_Oliveri       1.00      1.00      1.00         2\n",
            "          Tilia_Platyphyllos       1.00      1.00      1.00         2\n",
            "             Tilia_Tomentosa       1.00      1.00      1.00         2\n",
            "          Ulmus_Bergmanniana       1.00      1.00      1.00         2\n",
            "              Viburnum_Tinus       1.00      1.00      1.00         2\n",
            "Viburnum_x_Rhytidophylloides       0.67      1.00      0.80         2\n",
            "             Zelkova_Serrata       1.00      0.50      0.67         2\n",
            "\n",
            "                    accuracy                           0.89       198\n",
            "                   macro avg       0.91      0.89      0.88       198\n",
            "                weighted avg       0.91      0.89      0.88       198\n",
            "\n"
          ]
        },
        {
          "name": "stderr",
          "output_type": "stream",
          "text": [
            "/usr/local/lib/python3.9/dist-packages/sklearn/metrics/_classification.py:1344: UndefinedMetricWarning: Precision and F-score are ill-defined and being set to 0.0 in labels with no predicted samples. Use `zero_division` parameter to control this behavior.\n",
            "  _warn_prf(average, modifier, msg_start, len(result))\n",
            "/usr/local/lib/python3.9/dist-packages/sklearn/metrics/_classification.py:1344: UndefinedMetricWarning: Precision and F-score are ill-defined and being set to 0.0 in labels with no predicted samples. Use `zero_division` parameter to control this behavior.\n",
            "  _warn_prf(average, modifier, msg_start, len(result))\n",
            "/usr/local/lib/python3.9/dist-packages/sklearn/metrics/_classification.py:1344: UndefinedMetricWarning: Precision and F-score are ill-defined and being set to 0.0 in labels with no predicted samples. Use `zero_division` parameter to control this behavior.\n",
            "  _warn_prf(average, modifier, msg_start, len(result))\n"
          ]
        }
      ],
      "source": [
        "from sklearn.metrics import classification_report\n",
        "report_RF = classification_report(y_test, y_pred_Test_B, target_names=classes)\n",
        "print(report_RF)"
      ]
    }
  ],
  "metadata": {
    "accelerator": "GPU",
    "colab": {
      "machine_shape": "hm",
      "provenance": []
    },
    "gpuClass": "premium",
    "kernelspec": {
      "display_name": "Python 3",
      "name": "python3"
    },
    "language_info": {
      "codemirror_mode": {
        "name": "ipython",
        "version": 3
      },
      "file_extension": ".py",
      "mimetype": "text/x-python",
      "name": "python",
      "nbconvert_exporter": "python",
      "pygments_lexer": "ipython3",
      "version": "3.7.3"
    }
  },
  "nbformat": 4,
  "nbformat_minor": 0
}
