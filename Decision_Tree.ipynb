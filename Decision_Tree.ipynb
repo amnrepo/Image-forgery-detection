{
  "cells": [
    {
      "cell_type": "code",
      "execution_count": null,
      "metadata": {
        "id": "Go9BuGr5G7kh"
      },
      "outputs": [],
      "source": [
        "import numpy as np \n",
        "import pandas as pd \n"
      ]
    },
    {
      "cell_type": "code",
      "execution_count": 2,
      "metadata": {
        "id": "pdAs9pROG8h5"
      },
      "outputs": [],
      "source": [
        "import tensorflow as tf\n",
        "from tensorflow.keras import models,layers\n",
        "import matplotlib.pyplot as plt\n",
        "import zipfile"
      ]
    },
    {
      "cell_type": "markdown",
      "metadata": {
        "id": "Pc3fdXG8scZJ"
      },
      "source": [
        "# Reading CSV"
      ]
    },
    {
      "cell_type": "code",
      "execution_count": 4,
      "metadata": {
        "id": "oL-_R6PfG8rg"
      },
      "outputs": [
        {
          "data": {
            "text/html": [
              "<div>\n",
              "<style scoped>\n",
              "    .dataframe tbody tr th:only-of-type {\n",
              "        vertical-align: middle;\n",
              "    }\n",
              "\n",
              "    .dataframe tbody tr th {\n",
              "        vertical-align: top;\n",
              "    }\n",
              "\n",
              "    .dataframe thead th {\n",
              "        text-align: right;\n",
              "    }\n",
              "</style>\n",
              "<table border=\"1\" class=\"dataframe\">\n",
              "  <thead>\n",
              "    <tr style=\"text-align: right;\">\n",
              "      <th></th>\n",
              "      <th>id</th>\n",
              "      <th>species</th>\n",
              "      <th>margin1</th>\n",
              "      <th>margin2</th>\n",
              "      <th>margin3</th>\n",
              "      <th>margin4</th>\n",
              "      <th>margin5</th>\n",
              "      <th>margin6</th>\n",
              "      <th>margin7</th>\n",
              "      <th>margin8</th>\n",
              "      <th>...</th>\n",
              "      <th>texture55</th>\n",
              "      <th>texture56</th>\n",
              "      <th>texture57</th>\n",
              "      <th>texture58</th>\n",
              "      <th>texture59</th>\n",
              "      <th>texture60</th>\n",
              "      <th>texture61</th>\n",
              "      <th>texture62</th>\n",
              "      <th>texture63</th>\n",
              "      <th>texture64</th>\n",
              "    </tr>\n",
              "  </thead>\n",
              "  <tbody>\n",
              "    <tr>\n",
              "      <th>0</th>\n",
              "      <td>1</td>\n",
              "      <td>Acer_Opalus</td>\n",
              "      <td>0.007812</td>\n",
              "      <td>0.023438</td>\n",
              "      <td>0.023438</td>\n",
              "      <td>0.003906</td>\n",
              "      <td>0.011719</td>\n",
              "      <td>0.009766</td>\n",
              "      <td>0.027344</td>\n",
              "      <td>0.0</td>\n",
              "      <td>...</td>\n",
              "      <td>0.007812</td>\n",
              "      <td>0.000000</td>\n",
              "      <td>0.002930</td>\n",
              "      <td>0.002930</td>\n",
              "      <td>0.035156</td>\n",
              "      <td>0.0</td>\n",
              "      <td>0.0</td>\n",
              "      <td>0.004883</td>\n",
              "      <td>0.000000</td>\n",
              "      <td>0.025391</td>\n",
              "    </tr>\n",
              "    <tr>\n",
              "      <th>1</th>\n",
              "      <td>2</td>\n",
              "      <td>Pterocarya_Stenoptera</td>\n",
              "      <td>0.005859</td>\n",
              "      <td>0.000000</td>\n",
              "      <td>0.031250</td>\n",
              "      <td>0.015625</td>\n",
              "      <td>0.025391</td>\n",
              "      <td>0.001953</td>\n",
              "      <td>0.019531</td>\n",
              "      <td>0.0</td>\n",
              "      <td>...</td>\n",
              "      <td>0.000977</td>\n",
              "      <td>0.000000</td>\n",
              "      <td>0.000000</td>\n",
              "      <td>0.000977</td>\n",
              "      <td>0.023438</td>\n",
              "      <td>0.0</td>\n",
              "      <td>0.0</td>\n",
              "      <td>0.000977</td>\n",
              "      <td>0.039062</td>\n",
              "      <td>0.022461</td>\n",
              "    </tr>\n",
              "    <tr>\n",
              "      <th>2</th>\n",
              "      <td>3</td>\n",
              "      <td>Quercus_Hartwissiana</td>\n",
              "      <td>0.005859</td>\n",
              "      <td>0.009766</td>\n",
              "      <td>0.019531</td>\n",
              "      <td>0.007812</td>\n",
              "      <td>0.003906</td>\n",
              "      <td>0.005859</td>\n",
              "      <td>0.068359</td>\n",
              "      <td>0.0</td>\n",
              "      <td>...</td>\n",
              "      <td>0.154300</td>\n",
              "      <td>0.000000</td>\n",
              "      <td>0.005859</td>\n",
              "      <td>0.000977</td>\n",
              "      <td>0.007812</td>\n",
              "      <td>0.0</td>\n",
              "      <td>0.0</td>\n",
              "      <td>0.000000</td>\n",
              "      <td>0.020508</td>\n",
              "      <td>0.002930</td>\n",
              "    </tr>\n",
              "    <tr>\n",
              "      <th>3</th>\n",
              "      <td>5</td>\n",
              "      <td>Tilia_Tomentosa</td>\n",
              "      <td>0.000000</td>\n",
              "      <td>0.003906</td>\n",
              "      <td>0.023438</td>\n",
              "      <td>0.005859</td>\n",
              "      <td>0.021484</td>\n",
              "      <td>0.019531</td>\n",
              "      <td>0.023438</td>\n",
              "      <td>0.0</td>\n",
              "      <td>...</td>\n",
              "      <td>0.000000</td>\n",
              "      <td>0.000977</td>\n",
              "      <td>0.000000</td>\n",
              "      <td>0.000000</td>\n",
              "      <td>0.020508</td>\n",
              "      <td>0.0</td>\n",
              "      <td>0.0</td>\n",
              "      <td>0.017578</td>\n",
              "      <td>0.000000</td>\n",
              "      <td>0.047852</td>\n",
              "    </tr>\n",
              "    <tr>\n",
              "      <th>4</th>\n",
              "      <td>6</td>\n",
              "      <td>Quercus_Variabilis</td>\n",
              "      <td>0.005859</td>\n",
              "      <td>0.003906</td>\n",
              "      <td>0.048828</td>\n",
              "      <td>0.009766</td>\n",
              "      <td>0.013672</td>\n",
              "      <td>0.015625</td>\n",
              "      <td>0.005859</td>\n",
              "      <td>0.0</td>\n",
              "      <td>...</td>\n",
              "      <td>0.096680</td>\n",
              "      <td>0.000000</td>\n",
              "      <td>0.021484</td>\n",
              "      <td>0.000000</td>\n",
              "      <td>0.000000</td>\n",
              "      <td>0.0</td>\n",
              "      <td>0.0</td>\n",
              "      <td>0.000000</td>\n",
              "      <td>0.000000</td>\n",
              "      <td>0.031250</td>\n",
              "    </tr>\n",
              "  </tbody>\n",
              "</table>\n",
              "<p>5 rows × 194 columns</p>\n",
              "</div>"
            ],
            "text/plain": [
              "   id                species   margin1   margin2   margin3   margin4  \\\n",
              "0   1            Acer_Opalus  0.007812  0.023438  0.023438  0.003906   \n",
              "1   2  Pterocarya_Stenoptera  0.005859  0.000000  0.031250  0.015625   \n",
              "2   3   Quercus_Hartwissiana  0.005859  0.009766  0.019531  0.007812   \n",
              "3   5        Tilia_Tomentosa  0.000000  0.003906  0.023438  0.005859   \n",
              "4   6     Quercus_Variabilis  0.005859  0.003906  0.048828  0.009766   \n",
              "\n",
              "    margin5   margin6   margin7  margin8  ...  texture55  texture56  \\\n",
              "0  0.011719  0.009766  0.027344      0.0  ...   0.007812   0.000000   \n",
              "1  0.025391  0.001953  0.019531      0.0  ...   0.000977   0.000000   \n",
              "2  0.003906  0.005859  0.068359      0.0  ...   0.154300   0.000000   \n",
              "3  0.021484  0.019531  0.023438      0.0  ...   0.000000   0.000977   \n",
              "4  0.013672  0.015625  0.005859      0.0  ...   0.096680   0.000000   \n",
              "\n",
              "   texture57  texture58  texture59  texture60  texture61  texture62  \\\n",
              "0   0.002930   0.002930   0.035156        0.0        0.0   0.004883   \n",
              "1   0.000000   0.000977   0.023438        0.0        0.0   0.000977   \n",
              "2   0.005859   0.000977   0.007812        0.0        0.0   0.000000   \n",
              "3   0.000000   0.000000   0.020508        0.0        0.0   0.017578   \n",
              "4   0.021484   0.000000   0.000000        0.0        0.0   0.000000   \n",
              "\n",
              "   texture63  texture64  \n",
              "0   0.000000   0.025391  \n",
              "1   0.039062   0.022461  \n",
              "2   0.020508   0.002930  \n",
              "3   0.000000   0.047852  \n",
              "4   0.000000   0.031250  \n",
              "\n",
              "[5 rows x 194 columns]"
            ]
          },
          "execution_count": 4,
          "metadata": {},
          "output_type": "execute_result"
        }
      ],
      "source": [
        "df_train = pd.read_csv('train.csv')\n",
        "df_train.head()"
      ]
    },
    {
      "cell_type": "code",
      "execution_count": 5,
      "metadata": {
        "id": "J6SoWsuFHATD"
      },
      "outputs": [],
      "source": [
        "from sklearn.preprocessing import LabelEncoder\n",
        "from sklearn.model_selection import StratifiedShuffleSplit"
      ]
    },
    {
      "cell_type": "markdown",
      "metadata": {
        "id": "auCVap18sjgf"
      },
      "source": [
        "# Label Encoding"
      ]
    },
    {
      "cell_type": "code",
      "execution_count": 6,
      "metadata": {
        "id": "c3z8y3NuHAV1"
      },
      "outputs": [],
      "source": [
        "def encode(df_train):\n",
        "    le = LabelEncoder().fit(df_train.species)\n",
        "    labels = le.transform(df_train.species) \n",
        "    \n",
        "    classes = list(le.classes_) \n",
        "    \n",
        "    \n",
        "    \n",
        "    df_train = df_train.drop(['species','id'],axis = 1) \n",
        "    \n",
        "\n",
        "    return df_train, labels, classes\n",
        "\n",
        "df_train, labels, classes = encode(df_train)"
      ]
    },
    {
      "cell_type": "code",
      "execution_count": 7,
      "metadata": {
        "id": "CJtuEXooHAZR"
      },
      "outputs": [],
      "source": [
        "X = df_train.values\n",
        "y = labels"
      ]
    },
    {
      "cell_type": "markdown",
      "metadata": {
        "id": "ceq0VjRHslsJ"
      },
      "source": [
        "# PCA for dimensionality reduction"
      ]
    },
    {
      "cell_type": "code",
      "execution_count": 8,
      "metadata": {
        "id": "vMSNMtKbG8vR"
      },
      "outputs": [],
      "source": [
        "from sklearn.decomposition import PCA\n",
        "pca = PCA(n_components='mle', svd_solver='full')\n",
        "\n",
        "X=pca.fit_transform(X)\n",
        "n_components = pca.n_components_"
      ]
    },
    {
      "cell_type": "markdown",
      "metadata": {
        "id": "2nWk1ALys57z"
      },
      "source": [
        "#Spliting the dataset into Training, Validation and Testing"
      ]
    },
    {
      "cell_type": "code",
      "execution_count": 9,
      "metadata": {
        "id": "Kx8BG9LLHHnz"
      },
      "outputs": [],
      "source": [
        "split = StratifiedShuffleSplit(n_splits=1, test_size=0.20, random_state=5)\n",
        "split.get_n_splits(X, y)\n",
        "for train_index, test_index in split.split(X, y):\n",
        "    \n",
        "    X_train, X_test = X[train_index], X[test_index]\n",
        "    y_train, y_test = y[train_index], y[test_index]\n",
        "\n",
        "split = StratifiedShuffleSplit(n_splits=1, test_size=0.20, random_state=5)\n",
        "for train_val_index, val_index in split.split(X_train, y_train):\n",
        "   \n",
        "\n",
        "\n",
        "    X_train_val, X_val = X_train[train_val_index], X_train[val_index]\n",
        "    y_train_val, y_val = y_train[train_val_index], y_train[val_index] "
      ]
    },
    {
      "cell_type": "markdown",
      "metadata": {
        "id": "6UddjM5Ds9Lk"
      },
      "source": [
        "#Decision tree classifier training "
      ]
    },
    {
      "cell_type": "code",
      "execution_count": 10,
      "metadata": {
        "id": "kJOvA4Q1HZ_Z"
      },
      "outputs": [
        {
          "name": "stdout",
          "output_type": "stream",
          "text": [
            "Validation Accuracy: 41.5094%\n",
            "Validation Log Loss: 20.201925815891254\n"
          ]
        }
      ],
      "source": [
        "from sklearn.tree import DecisionTreeClassifier\n",
        "from sklearn.metrics import accuracy_score, log_loss\n",
        "\n",
        "DT_clf = DecisionTreeClassifier()\n",
        "DT_clf.fit(X_train_val, y_train_val) \n",
        "\n",
        "\n",
        "predictions_val_DT = DT_clf.predict(X_val)  \n",
        "acc_val_DT = accuracy_score(y_val, predictions_val_DT)\n",
        "print(\"Validation Accuracy: {:.4%}\".format(acc_val_DT))\n",
        "\n",
        "predictions_prob_val_DT = DT_clf.predict_proba(X_val) \n",
        "ll_val_DT = log_loss(y_val, predictions_prob_val_DT) \n",
        "print(\"Validation Log Loss: {}\".format(ll_val_DT))"
      ]
    },
    {
      "cell_type": "markdown",
      "metadata": {
        "id": "TcIu9RZTtJwN"
      },
      "source": [
        "# 5 Fold cross validation "
      ]
    },
    {
      "cell_type": "code",
      "execution_count": 11,
      "metadata": {
        "id": "wX__1m1uVfWl"
      },
      "outputs": [
        {
          "name": "stdout",
          "output_type": "stream",
          "text": [
            "DecisionTreeClassifier() [0.50314465 0.40880503 0.50632911 0.46835443 0.43670886]\n",
            "Cross Validation Avg Accuracy: 0.46 (+/- 0.08)\n"
          ]
        }
      ],
      "source": [
        "from sklearn.model_selection import cross_val_score\n",
        "scores = cross_val_score(DT_clf, X_train, y_train, cv=5, scoring='f1_micro')\n",
        "print(DT_clf,scores)\n",
        "print(\"Cross Validation Avg Accuracy: %0.2f (+/- %0.2f)\" % (scores.mean(), scores.std() * 2))"
      ]
    },
    {
      "cell_type": "code",
      "execution_count": null,
      "metadata": {
        "id": "rhnhlRz6XxEI"
      },
      "outputs": [],
      "source": [
        "from sklearn.metrics import classification_report\n",
        "report_RF = classification_report(y_val, predictions_val_DT, target_names=classes)\n",
        "print(report_RF)"
      ]
    },
    {
      "cell_type": "code",
      "execution_count": 14,
      "metadata": {
        "id": "twQ7uXAFLrFp"
      },
      "outputs": [
        {
          "name": "stdout",
          "output_type": "stream",
          "text": [
            "Training Accuracy: 100.0000%\n"
          ]
        }
      ],
      "source": [
        "predictions_T_val_DT = DT_clf.predict(X_train_val)\n",
        "acc_T_val_DT = accuracy_score(y_train_val, predictions_T_val_DT)\n",
        "print(\"Training Accuracy: {:.4%}\".format(acc_T_val_DT))"
      ]
    },
    {
      "cell_type": "code",
      "execution_count": 15,
      "metadata": {
        "id": "Gd1WbVxgOrU2"
      },
      "outputs": [
        {
          "name": "stdout",
          "output_type": "stream",
          "text": [
            "F1-score for training:1.0, for test:0.3561327561327561\n"
          ]
        }
      ],
      "source": [
        "from sklearn.metrics import f1_score\n",
        "f1scoreTrain = f1_score( y_train_val, predictions_T_val_DT, average='macro' )\n",
        "f1scoreTest = f1_score( y_val, predictions_val_DT , average='macro')\n",
        "\n",
        "print(\"F1-score for training:{}, for test:{}\".format(f1scoreTrain, f1scoreTest) )"
      ]
    },
    {
      "cell_type": "code",
      "execution_count": null,
      "metadata": {
        "id": "old9gFGaNrZj"
      },
      "outputs": [],
      "source": [
        "from sklearn import tree\n",
        "plt.figure(figsize=(25,20))\n",
        "tree.plot_tree(DT_clf)\n",
        "plt.show()"
      ]
    },
    {
      "cell_type": "markdown",
      "metadata": {
        "id": "M3ituc2ftS-n"
      },
      "source": [
        "#•\tFit the tree with different depths"
      ]
    },
    {
      "cell_type": "code",
      "execution_count": 16,
      "metadata": {
        "id": "v7u1gKDjOc5b"
      },
      "outputs": [
        {
          "name": "stdout",
          "output_type": "stream",
          "text": [
            "F1-score for training:0.8342431642431641, F1-score for val:0.33436092527001615\n",
            "F1-score for training:0.8659229702398425, F1-score for val:0.3522921522921522\n",
            "F1-score for training:0.8858682671353012, F1-score for val:0.3657912457912458\n",
            "F1-score for training:0.9035691581146126, F1-score for val:0.3712602212602213\n",
            "F1-score for training:0.9152775600003294, F1-score for val:0.3558567036827907\n",
            "F1-score for training:0.9265850474061618, F1-score for val:0.41107904441237775\n",
            "F1-score for training:0.9349491071416205, F1-score for val:0.4162097162097162\n",
            "F1-score for training:0.9419454728278257, F1-score for val:0.37715247715247713\n",
            "F1-score for training:0.9516175743448471, F1-score for val:0.3601731601731602\n",
            "F1-score for training:0.9581526217889855, F1-score for val:0.39894179894179893\n",
            "F1-score for training:0.9639565821384003, F1-score for val:0.3901394901394901\n",
            "F1-score for training:0.9678222747741465, F1-score for val:0.3838952293497748\n",
            "F1-score for training:0.9727414000141273, F1-score for val:0.4074555074555074\n",
            "F1-score for training:0.9768775050299977, F1-score for val:0.3488696488696489\n",
            "F1-score for training:0.9791673669416617, F1-score for val:0.3428177882723337\n",
            "F1-score for training:0.9815474900114398, F1-score for val:0.3915824915824916\n",
            "F1-score for training:0.9839289031208223, F1-score for val:0.4168831168831168\n",
            "F1-score for training:0.9860314096677734, F1-score for val:0.40134680134680134\n",
            "F1-score for training:0.9882067866257591, F1-score for val:0.3836940836940837\n",
            "F1-score for training:0.9890372254008618, F1-score for val:0.3966810966810967\n",
            "F1-score for training:0.990274478312756, F1-score for val:0.39230399230399227\n",
            "F1-score for training:0.9915471733653552, F1-score for val:0.4131313131313132\n",
            "F1-score for training:0.9927202921855328, F1-score for val:0.3895622895622895\n",
            "F1-score for training:0.994084198629653, F1-score for val:0.3481962481962482\n",
            "F1-score for training:0.9955075227802501, F1-score for val:0.3636844636844637\n",
            "F1-score for training:0.9968617241344514, F1-score for val:0.3905723905723906\n",
            "F1-score for training:0.9984459984459984, F1-score for val:0.39124579124579123\n",
            "F1-score for training:1.0, F1-score for val:0.37936507936507935\n",
            "F1-score for training:1.0, F1-score for val:0.37936507936507935\n",
            "F1-score for training:1.0, F1-score for val:0.37936507936507935\n"
          ]
        },
        {
          "data": {
            "image/png": "[encoded data removed]",
            "text/plain": [
              "<Figure size 432x288 with 1 Axes>"
            ]
          },
          "metadata": {
            "needs_background": "light"
          },
          "output_type": "display_data"
        }
      ],
      "source": [
        "heights = np.arange(20,50)\n",
        "\n",
        "F1scoreVal = np.zeros( len( heights) )\n",
        "\n",
        "\n",
        "\n",
        "for idx in range( len( heights) ):\n",
        "    \n",
        "    clf = DecisionTreeClassifier(random_state=0, max_depth = heights[ idx] )\n",
        "    clf.fit( X_train_val, y_train_val)\n",
        "\n",
        "    predTrain = clf.predict(X_train_val)\n",
        "\n",
        "    predVal = clf.predict(X_val)\n",
        "\n",
        "    f1scoreTrain = f1_score( y_train_val, predTrain, average='macro' )\n",
        "    f1scoreVal = f1_score( y_val, predVal , average='macro')\n",
        "\n",
        "    \n",
        "    F1scoreVal[ idx ] = f1scoreVal\n",
        "    \n",
        "    print(\"F1-score for training:{}, F1-score for val:{}\".format(f1scoreTrain, f1scoreVal) )\n",
        "    \n",
        "\n",
        "maxF1 = np.argmax( F1scoreVal ) \n",
        "plt.figure()\n",
        "plt.plot( heights, F1scoreVal )\n",
        "plt.plot(heights[maxF1], F1scoreVal[maxF1], 'rx' )\n",
        "plt.xlabel('depth')\n",
        "plt.xlabel('F1-score val')\n",
        "plt.grid()\n",
        "plt.show()"
      ]
    },
    {
      "cell_type": "code",
      "execution_count": null,
      "metadata": {
        "id": "CmxWP1pSGIhH"
      },
      "outputs": [],
      "source": [
        "from sklearn.model_selection import cross_val_score\n",
        "scores = cross_val_score(clf, X_train, y_train, cv=5, scoring='f1_micro')\n",
        "print(clf,scores)\n",
        "print(\"Cross Validation Avg Accuracy: %0.2f (+/- %0.2f)\" % (scores.mean(), scores.std() * 2))"
      ]
    },
    {
      "cell_type": "code",
      "execution_count": null,
      "metadata": {
        "id": "XKmxyxWMG-7U"
      },
      "outputs": [],
      "source": [
        "predictions_prob_val_DT_H = clf.predict_proba(X_val) \n",
        "ll_val_DT = log_loss(y_val, predictions_prob_val_DT_H)\n",
        "print(\"Validation Log Loss: {}\".format(ll_val_DT))"
      ]
    },
    {
      "cell_type": "code",
      "execution_count": null,
      "metadata": {
        "id": "3amlaSUfFDX3"
      },
      "outputs": [],
      "source": [
        "acc_val_DT_H = accuracy_score(y_val, predVal)\n",
        "print(\"Validation Accuracy: {:.4%}\".format(acc_val_DT_H))"
      ]
    },
    {
      "cell_type": "code",
      "execution_count": null,
      "metadata": {
        "id": "1Cuv_dQcSZyi"
      },
      "outputs": [],
      "source": [
        "uniValues, counts = np.unique(y_train , return_counts=True)\n",
        "counts"
      ]
    },
    {
      "cell_type": "markdown",
      "metadata": {
        "id": "q5kaQ2dxtbh7"
      },
      "source": [
        "#Effect of number of samples for spliting a node"
      ]
    },
    {
      "cell_type": "code",
      "execution_count": null,
      "metadata": {
        "id": "sBBfy-1hTFKA"
      },
      "outputs": [],
      "source": [
        "split = np.arange(4,8)\n",
        "\n",
        "F1scoreVal = np.zeros( len( split) )\n",
        "\n",
        "for idx in range( len( split) ):\n",
        "    \n",
        "    clf = DecisionTreeClassifier(random_state=0, min_samples_split = split[ idx] )\n",
        "    clf.fit( X_train_val, y_train_val)\n",
        "\n",
        "    predTrain = clf.predict(X_train_val)\n",
        "\n",
        "    predVal = clf.predict(X_val)\n",
        "\n",
        "    f1scoreTrain = f1_score( y_train_val, predTrain, average='macro' )\n",
        "    f1scoreVal = f1_score( y_val, predVal , average='macro')\n",
        "\n",
        "    \n",
        "    F1scoreVal[ idx ] = f1scoreVal\n",
        "    \n",
        "    print(\"F1-score for training:{}, F1-score for val:{}\".format(f1scoreTrain, f1scoreVal) )\n",
        "    \n",
        "\n",
        "maxF1 = np.argmax( F1scoreVal ) \n",
        "plt.figure()\n",
        "plt.plot( split, F1scoreVal )\n",
        "plt.plot(split[maxF1], F1scoreVal[maxF1], 'rx' )\n",
        "plt.xlabel('max split')\n",
        "plt.xlabel('F1-score val')\n",
        "plt.grid()\n",
        "plt.show()"
      ]
    },
    {
      "cell_type": "code",
      "execution_count": null,
      "metadata": {
        "id": "niy-3-LjGgrm"
      },
      "outputs": [],
      "source": [
        "from sklearn.model_selection import cross_val_score\n",
        "scores = cross_val_score(clf, X_train, y_train, cv=5, scoring='f1_micro')\n",
        "print(clf,scores)\n",
        "print(\"Cross Validation Avg Accuracy: %0.2f (+/- %0.2f)\" % (scores.mean(), scores.std() * 2))"
      ]
    }
  ],
  "metadata": {
    "accelerator": "GPU",
    "colab": {
      "machine_shape": "hm",
      "private_outputs": true,
      "provenance": []
    },
    "gpuClass": "premium",
    "kernelspec": {
      "display_name": "Python 3",
      "name": "python3"
    },
    "language_info": {
      "codemirror_mode": {
        "name": "ipython",
        "version": 3
      },
      "file_extension": ".py",
      "mimetype": "text/x-python",
      "name": "python",
      "nbconvert_exporter": "python",
      "pygments_lexer": "ipython3",
      "version": "3.7.3"
    }
  },
  "nbformat": 4,
  "nbformat_minor": 0
}
